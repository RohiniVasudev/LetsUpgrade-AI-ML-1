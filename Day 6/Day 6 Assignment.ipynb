{
 "cells": [
  {
   "cell_type": "markdown",
   "metadata": {},
   "source": [
    "Day 6 Assignment\n",
    "\n",
    "Ali Mohammed Taresh Ali (ali713626792@gmail.com)"
   ]
  },
  {
   "cell_type": "markdown",
   "metadata": {},
   "source": [
    "### Q1. Assuming that we have some email addresses in the \"username@companyname.com\" format, please write program to print the company name of a given email address. Both user names and company names are composed of letters only."
   ]
  },
  {
   "cell_type": "code",
   "execution_count": 6,
   "metadata": {},
   "outputs": [
    {
     "name": "stdout",
     "output_type": "stream",
     "text": [
      "Enter the E-mail address: ali@google.com\n",
      "google"
     ]
    }
   ],
   "source": [
    "email_address = input(\"Enter the E-mail address: \")\n",
    "\n",
    "add = email_address.index(\"@\")\n",
    "add2 = email_address.index(\".\")\n",
    "\n",
    "print(email_address[add + 1 : add2], end='')"
   ]
  },
  {
   "cell_type": "markdown",
   "metadata": {},
   "source": [
    "### Q2. Write a program that accepts a comma-separated sequence of words as input and prints the words in a comma separated sequence after sorting them alphabetically.\n"
   ]
  },
  {
   "cell_type": "code",
   "execution_count": 3,
   "metadata": {},
   "outputs": [
    {
     "name": "stdout",
     "output_type": "stream",
     "text": [
      "Print the sorted words separated by the comma:  without,hello,bag,world\n",
      "bag,hello,without,world"
     ]
    }
   ],
   "source": [
    "a = input(\"Print the sorted words separated by the comma:  \").split(',')\n",
    "b = list(a)\n",
    "b1 = len(b)\n",
    "\n",
    "c = sorted(b)\n",
    "b = c\n",
    "\n",
    "for i in range (b1):\n",
    "    if i == b1-1:\n",
    "        print(b[i],end=\"\")\n",
    "    else:\n",
    "        print(b[i],end=\",\")"
   ]
  },
  {
   "cell_type": "code",
   "execution_count": 4,
   "metadata": {},
   "outputs": [
    {
     "name": "stdout",
     "output_type": "stream",
     "text": [
      "Enter sequence of words seperated by comma: without,hello,bag,world\n",
      "Sorted sequence of words are : bag,hello,without,world\n"
     ]
    }
   ],
   "source": [
    "# it can be solved in the following way too \n",
    "names=input(\"Enter sequence of words seperated by comma: \")\n",
    "words= list(map(lambda x:x, names.split(',')))\n",
    "words.sort()\n",
    "print(\"Sorted sequence of words are :\", ','.join(words))"
   ]
  },
  {
   "cell_type": "markdown",
   "metadata": {},
   "source": [
    "###  Q3.Create your own Jupyter Notebook for Sets.\n"
   ]
  },
  {
   "cell_type": "markdown",
   "metadata": {},
   "source": [
    "__set :__ is a collection which is unordered and unindexed. \n",
    "\n",
    ".In Python sets are written with curly brackets.\n",
    "\n",
    ".The set list is unordered, meaning: the items will appear in a random order.\n",
    "\n",
    ".Sets are unordered, so you cannot be sure in which order the items will appear."
   ]
  },
  {
   "cell_type": "code",
   "execution_count": 33,
   "metadata": {},
   "outputs": [
    {
     "name": "stdout",
     "output_type": "stream",
     "text": [
      "{'apple', 'banana', 'cherry'}\n"
     ]
    }
   ],
   "source": [
    "#EX\": creating set\n",
    "setList = {\"apple\", \"banana\", \"cherry\"}\n",
    "print(setList)"
   ]
  },
  {
   "cell_type": "markdown",
   "metadata": {},
   "source": [
    "__Access Items in sets__\n",
    "\n",
    "You cannot access items in a set by referring to an index, since sets are unordered \n",
    "the items has no index.\n",
    "\n",
    "But you can loop through the set items using a __for loop__, or ask if a specified value is present in a set, by using the __in__ keyword."
   ]
  },
  {
   "cell_type": "code",
   "execution_count": 23,
   "metadata": {},
   "outputs": [
    {
     "name": "stdout",
     "output_type": "stream",
     "text": [
      "apple\n",
      "banana\n",
      "cherry\n"
     ]
    }
   ],
   "source": [
    "#Loop through the set, and print the values:\n",
    "setList = {\"apple\", \"banana\", \"cherry\"}\n",
    "for i in setList:\n",
    "  print(i)"
   ]
  },
  {
   "cell_type": "code",
   "execution_count": 25,
   "metadata": {},
   "outputs": [
    {
     "name": "stdout",
     "output_type": "stream",
     "text": [
      "True\n"
     ]
    }
   ],
   "source": [
    "#Check if \"banana\" is present in the set:\n",
    "setList = {\"apple\", \"banana\", \"cherry\"}\n",
    "print(\"banana\" in setList)"
   ]
  },
  {
   "cell_type": "markdown",
   "metadata": {},
   "source": [
    "__Add and Change items in set__"
   ]
  },
  {
   "cell_type": "code",
   "execution_count": 32,
   "metadata": {},
   "outputs": [
    {
     "name": "stdout",
     "output_type": "stream",
     "text": [
      "{'orange', 'apple', 'banana', 'cherry'}\n"
     ]
    }
   ],
   "source": [
    "#Once a set is created,you cannot change its items, but you can add new items.\n",
    "#To add one item to a set use the add() method.\n",
    "#To add more than one item to a set use the update() method.\n",
    "\n",
    "#Ex:1\n",
    "#Add an item to a set, using the add() method:\n",
    "\n",
    "setList = {\"apple\", \"banana\", \"cherry\"}\n",
    "setList.add(\"orange\")\n",
    "print(setList)"
   ]
  },
  {
   "cell_type": "code",
   "execution_count": 43,
   "metadata": {},
   "outputs": [
    {
     "name": "stdout",
     "output_type": "stream",
     "text": [
      "{'cherry', 'mango', 'orange', 'grapes', 'apple', 'banana'}\n"
     ]
    }
   ],
   "source": [
    "#Add multiple items to a set, using the update() method:\n",
    "\n",
    "setList = {\"apple\", \"banana\", \"cherry\"}\n",
    "setList.update([\"orange\", \"mango\", \"grapes\"])\n",
    "print(setList)"
   ]
  },
  {
   "cell_type": "code",
   "execution_count": 46,
   "metadata": {},
   "outputs": [
    {
     "name": "stdout",
     "output_type": "stream",
     "text": [
      "3\n"
     ]
    }
   ],
   "source": [
    "#Get the Length of a Set\n",
    "#To determine how many items a set has, use the len() method\n",
    "setList = {\"apple\", \"banana\", \"cherry\"}\n",
    "\n",
    "print(len(setList))"
   ]
  },
  {
   "cell_type": "code",
   "execution_count": 47,
   "metadata": {},
   "outputs": [
    {
     "name": "stdout",
     "output_type": "stream",
     "text": [
      "{'apple', 'cherry'}\n"
     ]
    }
   ],
   "source": [
    "#Remove Item\n",
    "#To remove an item in a set, use the remove(), or the discard() method.\n",
    "#Remove \"banana\" by using the remove() method:\n",
    "setList = {\"apple\", \"banana\", \"cherry\"}\n",
    "setList.remove(\"banana\")\n",
    "print(setList)"
   ]
  },
  {
   "cell_type": "code",
   "execution_count": 48,
   "metadata": {},
   "outputs": [
    {
     "ename": "KeyError",
     "evalue": "'orange'",
     "output_type": "error",
     "traceback": [
      "\u001b[1;31m---------------------------------------------------------------------------\u001b[0m",
      "\u001b[1;31mKeyError\u001b[0m                                  Traceback (most recent call last)",
      "\u001b[1;32m<ipython-input-48-af48ab56cac2>\u001b[0m in \u001b[0;36m<module>\u001b[1;34m\u001b[0m\n\u001b[0;32m      1\u001b[0m \u001b[1;31m#If the item to remove does not exist, remove() will raise an error.\u001b[0m\u001b[1;33m\u001b[0m\u001b[1;33m\u001b[0m\u001b[1;33m\u001b[0m\u001b[0m\n\u001b[1;32m----> 2\u001b[1;33m \u001b[0msetList\u001b[0m\u001b[1;33m.\u001b[0m\u001b[0mremove\u001b[0m\u001b[1;33m(\u001b[0m\u001b[1;34m\"orange\"\u001b[0m\u001b[1;33m)\u001b[0m\u001b[1;33m\u001b[0m\u001b[1;33m\u001b[0m\u001b[0m\n\u001b[0m\u001b[0;32m      3\u001b[0m \u001b[0mprint\u001b[0m\u001b[1;33m(\u001b[0m\u001b[0msetList\u001b[0m\u001b[1;33m)\u001b[0m\u001b[1;33m\u001b[0m\u001b[1;33m\u001b[0m\u001b[0m\n",
      "\u001b[1;31mKeyError\u001b[0m: 'orange'"
     ]
    }
   ],
   "source": [
    "#If the item to remove does not exist, remove() will raise an error.\n",
    "setList.remove(\"orange\")\n",
    "print(setList)"
   ]
  },
  {
   "cell_type": "code",
   "execution_count": 49,
   "metadata": {},
   "outputs": [
    {
     "name": "stdout",
     "output_type": "stream",
     "text": [
      "{'apple', 'cherry'}\n"
     ]
    }
   ],
   "source": [
    "#Remove \"banana\" by using the discard() method:\n",
    "thisset = {\"apple\", \"banana\", \"cherry\"}\n",
    "\n",
    "thisset.discard(\"banana\")\n",
    "\n",
    "print(thisset)"
   ]
  },
  {
   "cell_type": "code",
   "execution_count": 51,
   "metadata": {},
   "outputs": [
    {
     "name": "stdout",
     "output_type": "stream",
     "text": [
      "{'apple', 'banana', 'cherry'}\n"
     ]
    }
   ],
   "source": [
    "#If the item to remove does not exist, discard() will NOT raise an error.\n",
    "setList = {\"apple\", \"banana\", \"cherry\"}\n",
    "setList.discard(\"orange\")\n",
    "print(setList)"
   ]
  },
  {
   "cell_type": "code",
   "execution_count": 54,
   "metadata": {},
   "outputs": [
    {
     "name": "stdout",
     "output_type": "stream",
     "text": [
      "apple\n",
      "{'banana', 'cherry'}\n"
     ]
    }
   ],
   "source": [
    "#You can also use the pop(), method to remove an item, but this method wil\n",
    "#remove the last item. Remember that sets are unordered,\n",
    "#so you will not know what item that gets removed.\n",
    "#The return value of the pop() method is the removed item.\n",
    "\n",
    "#Remove the last item by using the pop() method:\n",
    "setList = {\"apple\", \"banana\", \"cherry\"}\n",
    "x = setList.pop()\n",
    "print(x)\n",
    "print(setList)"
   ]
  },
  {
   "cell_type": "code",
   "execution_count": 55,
   "metadata": {},
   "outputs": [],
   "source": [
    "#Sets are unordered, so when using the pop() method,\n",
    "#you will not know which item that gets removed."
   ]
  },
  {
   "cell_type": "code",
   "execution_count": 56,
   "metadata": {},
   "outputs": [
    {
     "name": "stdout",
     "output_type": "stream",
     "text": [
      "set()\n"
     ]
    }
   ],
   "source": [
    "#The clear() method empties the set:\n",
    "setList = {\"apple\", \"banana\", \"cherry\"}\n",
    "setList.clear()\n",
    "print(setList)"
   ]
  },
  {
   "cell_type": "code",
   "execution_count": 69,
   "metadata": {},
   "outputs": [
    {
     "ename": "NameError",
     "evalue": "name 'setList' is not defined",
     "output_type": "error",
     "traceback": [
      "\u001b[1;31m---------------------------------------------------------------------------\u001b[0m",
      "\u001b[1;31mNameError\u001b[0m                                 Traceback (most recent call last)",
      "\u001b[1;32m<ipython-input-69-10ec8dcadf2f>\u001b[0m in \u001b[0;36m<module>\u001b[1;34m\u001b[0m\n\u001b[0;32m      2\u001b[0m \u001b[0msetList\u001b[0m \u001b[1;33m=\u001b[0m \u001b[1;33m{\u001b[0m\u001b[1;34m\"apple\"\u001b[0m\u001b[1;33m,\u001b[0m \u001b[1;34m\"banana\"\u001b[0m\u001b[1;33m,\u001b[0m \u001b[1;34m\"cherry\"\u001b[0m\u001b[1;33m}\u001b[0m\u001b[1;33m\u001b[0m\u001b[1;33m\u001b[0m\u001b[0m\n\u001b[0;32m      3\u001b[0m \u001b[1;32mdel\u001b[0m \u001b[0msetList\u001b[0m\u001b[1;33m\u001b[0m\u001b[1;33m\u001b[0m\u001b[0m\n\u001b[1;32m----> 4\u001b[1;33m \u001b[0mprint\u001b[0m\u001b[1;33m(\u001b[0m\u001b[0msetList\u001b[0m\u001b[1;33m)\u001b[0m \u001b[1;31m#this will raise an error because the set no longer exists\u001b[0m\u001b[1;33m\u001b[0m\u001b[1;33m\u001b[0m\u001b[0m\n\u001b[0m",
      "\u001b[1;31mNameError\u001b[0m: name 'setList' is not defined"
     ]
    }
   ],
   "source": [
    "#The del keyword will delete the set completely:\n",
    "setList = {\"apple\", \"banana\", \"cherry\"}\n",
    "del setList\n",
    "print(setList) #this will raise an error because the set no longer exists"
   ]
  },
  {
   "cell_type": "markdown",
   "metadata": {},
   "source": [
    "Join Two Sets"
   ]
  },
  {
   "cell_type": "code",
   "execution_count": 71,
   "metadata": {},
   "outputs": [
    {
     "name": "stdout",
     "output_type": "stream",
     "text": [
      "{1, 2, 'a', 3, 'b', 'c'}\n"
     ]
    }
   ],
   "source": [
    "#Join Two Sets\n",
    "#EThere are several ways to join two or more sets in Python.\n",
    "#You can use the union() method that returns a new set containing all items \n",
    "#from both sets, or the update() method that inserts all the items\n",
    "#from one set into another:\n",
    "set1 = {\"a\", \"b\" , \"c\"}\n",
    "set2 = {1, 2, 3}\n",
    "set3 = set1.union(set2)\n",
    "print(set3)"
   ]
  },
  {
   "cell_type": "code",
   "execution_count": 72,
   "metadata": {},
   "outputs": [
    {
     "name": "stdout",
     "output_type": "stream",
     "text": [
      "{1, 2, 'a', 3, 'b', 'c'}\n"
     ]
    }
   ],
   "source": [
    "#The update() method inserts the items in set2 into set1:\n",
    "set1 = {\"a\", \"b\" , \"c\"}\n",
    "set2 = {1, 2, 3}\n",
    "set1.update(set2)\n",
    "print(set1)"
   ]
  },
  {
   "cell_type": "code",
   "execution_count": 77,
   "metadata": {},
   "outputs": [],
   "source": [
    "#Both union() and update() will exclude any duplicate items.\n",
    "#There are other methods that joins two sets and keeps ONLY the duplicates,\n",
    "#or NEVER the duplicates,"
   ]
  },
  {
   "cell_type": "code",
   "execution_count": null,
   "metadata": {},
   "outputs": [],
   "source": [
    "#The set() Constructor\n",
    "#It is also possible to use the set() constructor to make a set.\n",
    "setList = set((\"apple\", \"banana\", \"cherry\")) # note the double round-brackets\n",
    "print(setList)"
   ]
  },
  {
   "cell_type": "markdown",
   "metadata": {},
   "source": [
    "__Set Methods__"
   ]
  },
  {
   "cell_type": "raw",
   "metadata": {},
   "source": [
    "Python has a set of built-in methods that you can use on sets.\n",
    "\n",
    "Method               Description\n",
    "add()\t             Adds an element to the set\n",
    "clear()\t             Removes all the elements from the set\n",
    "copy()\t             Returns a copy of the set\n",
    "difference()         Returns a set containing the difference between two or more sets\n",
    "difference_update()\t Removes the items in this set that are also included in another, specified set\n",
    "discard()\t         Remove the specified item\n",
    "intersection()\t     Returns a set, that is the intersection of two other sets\n",
    "intersection_update()Removes the items in this set that are not present in other, specified set(s)\n",
    "isdisjoint()\t     Returns whether two sets have a intersection or not\n",
    "issubset()\t         Returns whether another set contains this set or not\n",
    "issuperset()\t     Returns whether this set contains another set or not\n",
    "pop()\t             Removes an element from the set\n",
    "remove()\t         Removes the specified element\n",
    "symmetric_difference()Returns a set with the symmetric differences of two sets\n",
    "symmetric_difference_update()\tinserts the symmetric differences from this set and another\n",
    "union()\t             Return a set containing the union of sets\n",
    "update()\t         Update the set with the union of this set and others"
   ]
  },
  {
   "cell_type": "markdown",
   "metadata": {},
   "source": [
    "### Q4. Given a list of n-1 numbers ranging from 1 to n, your task is to find the missing number. There are no duplicates.\n"
   ]
  },
  {
   "cell_type": "code",
   "execution_count": 47,
   "metadata": {},
   "outputs": [
    {
     "name": "stdout",
     "output_type": "stream",
     "text": [
      "Enter the numbers: 1 2 4 6 3 7 8\n",
      "The missing numbers are:  5\n"
     ]
    }
   ],
   "source": [
    "listOfNumbers =list(map(int,input(\"Enter the numbers: \").split()))\n",
    "for i in range(1, listOfNumbers[-1]+1):\n",
    "    if i not in listOfNumbers:\n",
    "        print(\"The missing numbers are: \", i)"
   ]
  },
  {
   "cell_type": "markdown",
   "metadata": {},
   "source": [
    "### Q5. With a given list L, write a program to print this list L after removing all duplicate values with original order reserved."
   ]
  },
  {
   "cell_type": "code",
   "execution_count": 89,
   "metadata": {},
   "outputs": [
    {
     "name": "stdout",
     "output_type": "stream",
     "text": [
      "Enter your values: 12 24 35 24 11 77 88 6  99 11\n",
      "Sorted list after removing all duplicate values:  6 11 12 24 35 77 88 99\n"
     ]
    }
   ],
   "source": [
    "l = list(map(int, input('Enter your values: ').strip().split()))\n",
    "x = sorted(set(l))\n",
    "x = list(map(str, x))\n",
    "\n",
    "print('Sorted list after removing all duplicate values: ',' '.join(x))\n"
   ]
  }
 ],
 "metadata": {
  "kernelspec": {
   "display_name": "Python 3",
   "language": "python",
   "name": "python3"
  },
  "language_info": {
   "codemirror_mode": {
    "name": "ipython",
    "version": 3
   },
   "file_extension": ".py",
   "mimetype": "text/x-python",
   "name": "python",
   "nbconvert_exporter": "python",
   "pygments_lexer": "ipython3",
   "version": "3.7.4"
  }
 },
 "nbformat": 4,
 "nbformat_minor": 2
}
