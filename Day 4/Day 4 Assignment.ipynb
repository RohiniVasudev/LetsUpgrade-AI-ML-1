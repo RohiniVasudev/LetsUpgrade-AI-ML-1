{
 "cells": [
  {
   "cell_type": "markdown",
   "metadata": {},
   "source": [
    "Day 4 Assignment\n",
    "\n",
    "Ali Mohammed Taresh Ali (ali713626792@gmail.com)"
   ]
  },
  {
   "cell_type": "markdown",
   "metadata": {},
   "source": [
    "### Question 1"
   ]
  },
  {
   "cell_type": "code",
   "execution_count": 273,
   "metadata": {},
   "outputs": [
    {
     "name": "stdout",
     "output_type": "stream",
     "text": [
      "Addition of two complex numbers :  (7-4j)\n",
      "Subtraction of two complex numbers :  (1+10j)\n",
      "Multiplication of two complex numbers :  (33-19j)\n",
      "Division of two complex numbers :  (-0.15517241379310348+0.6379310344827587j)\n"
     ]
    },
    {
     "data": {
      "text/plain": [
       "'floor division cant be performed in complex'"
      ]
     },
     "execution_count": 273,
     "metadata": {},
     "output_type": "execute_result"
    }
   ],
   "source": [
    "#question 1\n",
    "print(\"Addition of two complex numbers : \",(4+3j)+(3-7j))\n",
    "print(\"Subtraction of two complex numbers : \",(4+3j)-(3-7j))\n",
    "print(\"Multiplication of two complex numbers : \",(4+3j)*(3-7j))\n",
    "print(\"Division of two complex numbers : \",(4+3j)/(3-7j))\n",
    "#print(\"floor division of two complex numbers : \",(4+3j)/(3-7j))\n",
    "'''floor division cant be performed in complex'''\n",
    "#print(\"Division of two complex numbers : \",(4+3j)%(3-7j)) cant be performed."
   ]
  },
  {
   "cell_type": "markdown",
   "metadata": {},
   "source": [
    "### Question 2"
   ]
  },
  {
   "cell_type": "markdown",
   "metadata": {},
   "source": [
    "#question2 \n",
    "\n",
    "__Range function()__ -The start,stop and step parameters are all integers.\n",
    "\n",
    "-start will start generating integers,\n",
    "\n",
    "-stop will stop generating integers, \n",
    "\n",
    "-And Step will tell integers are generated in sequence or should be skipped.\n",
    "\n",
    "__eg:__ \n",
    "\n",
    "def frange(start,stop,step): \n",
    "\n",
    "i=start \n",
    "\n",
    "while i<stop: i += step\n",
    "\n",
    "for i in frange(5,0.2,8):\n",
    "\n",
    "print(i)"
   ]
  },
  {
   "cell_type": "markdown",
   "metadata": {},
   "source": [
    "### Question 3"
   ]
  },
  {
   "cell_type": "code",
   "execution_count": 274,
   "metadata": {},
   "outputs": [
    {
     "name": "stdout",
     "output_type": "stream",
     "text": [
      "4\n",
      "Division result is: 1.1333333333333333\n"
     ]
    }
   ],
   "source": [
    "#question3\n",
    "\n",
    "a=34\n",
    "b=30\n",
    "c=a-b\n",
    "print(c)\n",
    "\n",
    "if c>25:\n",
    "    \n",
    "    print('Multiplication result is:',a*b)\n",
    "else:\n",
    "    print('Division result is:',a/b)"
   ]
  },
  {
   "cell_type": "markdown",
   "metadata": {},
   "source": [
    "### Question 4"
   ]
  },
  {
   "cell_type": "code",
   "execution_count": 275,
   "metadata": {},
   "outputs": [
    {
     "name": "stdout",
     "output_type": "stream",
     "text": [
      "The square of  12 - 2 is:  142\n",
      "The square of  54 - 2 is:  2914\n",
      "The square of  102 - 2 is:  10402\n",
      "The square of  444 - 2 is:  197134\n"
     ]
    }
   ],
   "source": [
    "#question4\n",
    "\n",
    "my_list =[12, 65, 54, 39, 102, 339, 221, 444, 577, 887]\n",
    "for i in my_list:\n",
    "    if(i%2==0):\n",
    "        \n",
    "        #print(\"Numbers divisible by 2 are\",list([i]))\n",
    "        \n",
    "        print(\"The square of \", i, \"- 2 is: \",(i**2)-2)\n",
    "        \n",
    "        #print((i**2)-2)"
   ]
  },
  {
   "cell_type": "markdown",
   "metadata": {},
   "source": [
    "### Question 5"
   ]
  },
  {
   "cell_type": "code",
   "execution_count": 276,
   "metadata": {},
   "outputs": [
    {
     "name": "stdout",
     "output_type": "stream",
     "text": [
      "55\n",
      "64\n",
      "21\n",
      "78\n",
      "32\n"
     ]
    }
   ],
   "source": [
    "#question5\n",
    "x=[12,4,3,2,55,64,21,78,32,7]\n",
    "for i in x:\n",
    "\n",
    "    if ((i/2)>7):\n",
    "\n",
    "        print(i)"
   ]
  }
 ],
 "metadata": {
  "kernelspec": {
   "display_name": "Python 3",
   "language": "python",
   "name": "python3"
  },
  "language_info": {
   "codemirror_mode": {
    "name": "ipython",
    "version": 3
   },
   "file_extension": ".py",
   "mimetype": "text/x-python",
   "name": "python",
   "nbconvert_exporter": "python",
   "pygments_lexer": "ipython3",
   "version": "3.7.4"
  }
 },
 "nbformat": 4,
 "nbformat_minor": 2
}
