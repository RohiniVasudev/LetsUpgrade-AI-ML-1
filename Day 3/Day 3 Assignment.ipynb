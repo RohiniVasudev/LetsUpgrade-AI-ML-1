{
 "cells": [
  {
   "cell_type": "markdown",
   "metadata": {},
   "source": [
    "Day3 Assignment\n",
    "\n",
    "Ali Mohammed Taresh Ali\n",
    "(ali713626792@gmail.com)"
   ]
  },
  {
   "cell_type": "markdown",
   "metadata": {},
   "source": [
    "### Q1. Write a program to subtract two complex numbers in Python.\n",
    "\n"
   ]
  },
  {
   "cell_type": "code",
   "execution_count": 33,
   "metadata": {},
   "outputs": [
    {
     "name": "stdout",
     "output_type": "stream",
     "text": [
      "9j\n"
     ]
    }
   ],
   "source": [
    "a = 12j \n",
    "b = 3j\n",
    "c = a - b\n",
    "print(c)"
   ]
  },
  {
   "cell_type": "code",
   "execution_count": 34,
   "metadata": {},
   "outputs": [
    {
     "data": {
      "text/plain": [
       "complex"
      ]
     },
     "execution_count": 34,
     "metadata": {},
     "output_type": "execute_result"
    }
   ],
   "source": [
    "type(c)"
   ]
  },
  {
   "cell_type": "markdown",
   "metadata": {},
   "source": [
    "### Q2. Write a program to find the fourth root of a number."
   ]
  },
  {
   "cell_type": "code",
   "execution_count": 75,
   "metadata": {},
   "outputs": [
    {
     "name": "stdout",
     "output_type": "stream",
     "text": [
      "Enter a number:3\n",
      "The fourth root of a given number is: 81\n"
     ]
    }
   ],
   "source": [
    "number=int(input(\"Enter a number:\"))\n",
    "fourthNum = number ** 4\n",
    "print(\"The fourth root of a given number is:\", fourthNum)"
   ]
  },
  {
   "cell_type": "markdown",
   "metadata": {},
   "source": [
    "### Q3. Write a program to swap two numbers in Python with the help of a temporary variable.\n"
   ]
  },
  {
   "cell_type": "code",
   "execution_count": 43,
   "metadata": {},
   "outputs": [
    {
     "name": "stdout",
     "output_type": "stream",
     "text": [
      "The value of x after swapping is: 7\n",
      "The value of y after swapping is: 3\n"
     ]
    }
   ],
   "source": [
    "# Python program to swap two numbers in python with the help of a temporary variable\n",
    "\n",
    "x = 3\n",
    "y = 7\n",
    "\n",
    "# then we create temporary variable and swap the numbers\n",
    "temp = x\n",
    "x = y\n",
    "y = temp\n",
    "\n",
    "print('The value of x after swapping is:', x)\n",
    "print('The value of y after swapping is:', y)"
   ]
  },
  {
   "cell_type": "markdown",
   "metadata": {},
   "source": [
    "### Q4. Write a program to swap two numbers in Python without using a temporary variable.\n"
   ]
  },
  {
   "cell_type": "code",
   "execution_count": 1,
   "metadata": {},
   "outputs": [
    {
     "name": "stdout",
     "output_type": "stream",
     "text": [
      "The value of x after swapping is: 7\n",
      "The value of y after swapping is: 3\n"
     ]
    }
   ],
   "source": [
    "# Python program to swap two numbers in python with the help of a temporary variable\n",
    "x = 3\n",
    "y = 7\n",
    "\n",
    "# Swapping the numbers without using a temporary variable\n",
    "x, y = y, x\n",
    "print('The value of x after swapping is:', x)\n",
    "print('The value of y after swapping is:', y)"
   ]
  },
  {
   "cell_type": "markdown",
   "metadata": {},
   "source": [
    "### Q5. Write a program to convert fahrenheit to kelvin and celsius both."
   ]
  },
  {
   "cell_type": "code",
   "execution_count": 76,
   "metadata": {},
   "outputs": [
    {
     "name": "stdout",
     "output_type": "stream",
     "text": [
      "Enter temperature in celsius: 6\n",
      "6.000 Celsius = 42.800 Fahrenheit.\n",
      "6.000 Celsius = 279.150 Kelvin.\n"
     ]
    }
   ],
   "source": [
    "# Reading temperature in Celsius\n",
    "celsius = float(input('Enter temperature in celsius: '))\n",
    "\n",
    "# Converting\n",
    "fahrenheit = 1.8 * celsius + 32\n",
    "kelvin = 273.15 + celsius\n",
    "\n",
    "# Displaying output\n",
    "print('%0.3f Celsius = %0.3f Fahrenheit.' % (celsius, fahrenheit))\n",
    "print('%0.3f Celsius = %0.3f Kelvin.' % (celsius, kelvin))"
   ]
  },
  {
   "cell_type": "markdown",
   "metadata": {},
   "source": [
    "### Q6. Write a program to demonstrate all the available data types in Python. Hint: Use type() function"
   ]
  },
  {
   "cell_type": "code",
   "execution_count": 73,
   "metadata": {},
   "outputs": [
    {
     "name": "stdout",
     "output_type": "stream",
     "text": [
      "3 is of type <class 'int'>\n",
      "321.0 is of type <class 'float'>\n",
      "(3+2j) is of type <class 'complex'>\n",
      "----------------------------------------------\n",
      "Hello LetsUpgraders is of type <class 'str'>\n",
      "----------------------------------------------\n",
      "python\n",
      "[1, 2.2, 'python'] is of type <class 'list'>\n",
      "----------------------------------------------\n",
      "d[1] =  program\n",
      "d[0:3] =  (5, 'program', (1+3j))\n",
      "(5, 'program', (1+3j)) is of type <class 'tuple'>\n",
      "----------------------------------------------\n",
      "Name - Ali\n",
      "number = 1\n",
      "{'name': 'Ali', 'number': 1} is of type <class 'dict'>\n",
      "----------------------------------------------\n",
      "f =  {1, 2, 3, 4, 5}\n",
      "{1, 2, 3, 4, 5} is of type <class 'set'>\n"
     ]
    }
   ],
   "source": [
    "#Numbers\n",
    "a = 3\n",
    "print(a, \"is of type\", type(a))\n",
    "\n",
    "a = 321.0\n",
    "print(a, \"is of type\", type(a))\n",
    "\n",
    "a = 3+2j\n",
    "print(a, \"is of type\", type(a))\n",
    "print(\"----------------------------------------------\")\n",
    "\n",
    "#String\n",
    "b = \"Hello LetsUpgraders\"\n",
    "print(b, \"is of type\", type(b))\n",
    "print(\"----------------------------------------------\")\n",
    "\n",
    "#list\n",
    "c = [1,2.2, 'python']\n",
    "print(c[2])\n",
    "print(c, \"is of type\", type(c))\n",
    "print(\"----------------------------------------------\")\n",
    "\n",
    "#Tuple\n",
    "d = (5,'program', 1+3j)\n",
    "print(\"d[1] = \", d[1])\n",
    "print(\"d[0:3] = \", d[0:3])\n",
    "print(d, \"is of type\", type(d))\n",
    "print(\"----------------------------------------------\")\n",
    "\n",
    "#Dictionary\n",
    "e = {'name':'Ali','number':1}\n",
    "print(\"Name -\", e['name'])\n",
    "print('number =', e['number'])\n",
    "print(e, \"is of type\", type(e))\n",
    "print(\"----------------------------------------------\")\n",
    "\n",
    "#Set\n",
    "f = {3,2,5,4,1}\n",
    "print(\"f = \", f)\n",
    "# data type of variable f\n",
    "print(f, \"is of type\", type(f))\n"
   ]
  },
  {
   "cell_type": "markdown",
   "metadata": {},
   "source": [
    "### Q7. Create a Markdown cell in jupyter and list the steps discussed in the session by Dr. DarshanIngle sir to create Github profile and upload Githubs Assignment link."
   ]
  },
  {
   "cell_type": "markdown",
   "metadata": {},
   "source": [
    "The steps to create Github profile and upload Github Assignment link are : \n",
    "\n",
    "step1: Go to the github.com website \n",
    "\n",
    "step2: create an account (a profile) and login using your own creditional\n",
    "\n",
    "step3: once you create your profile, go to the home page \n",
    "\n",
    "step4: Click on new buton at the top left corner of the screen to create a new repository\n",
    "\n",
    "step5: Create a Github public repo and name it LetsUpgrade AI/ML\n",
    "\n",
    "step6: Click on LetsUpgrade-AI-ML folder and then click on upload an existing file.\n",
    "\n",
    "step7: Upload the folder, files/solution by draging and dropping the folder to the repo in day wise manner and click on commit changes.\n",
    "\n",
    "step8: After uploading the folder go to that particular folder. \n",
    "\n",
    "step9: Copy the URL of the Folder of that day and paste in the Assignment Submission Form (Google Form).\n"
   ]
  },
  {
   "cell_type": "code",
   "execution_count": null,
   "metadata": {},
   "outputs": [],
   "source": []
  }
 ],
 "metadata": {
  "kernelspec": {
   "display_name": "Python 3",
   "language": "python",
   "name": "python3"
  },
  "language_info": {
   "codemirror_mode": {
    "name": "ipython",
    "version": 3
   },
   "file_extension": ".py",
   "mimetype": "text/x-python",
   "name": "python",
   "nbconvert_exporter": "python",
   "pygments_lexer": "ipython3",
   "version": "3.7.4"
  }
 },
 "nbformat": 4,
 "nbformat_minor": 2
}
