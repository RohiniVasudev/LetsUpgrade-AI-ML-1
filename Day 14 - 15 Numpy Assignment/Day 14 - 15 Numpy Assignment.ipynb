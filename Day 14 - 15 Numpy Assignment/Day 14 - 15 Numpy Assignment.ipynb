{
 "cells": [
  {
   "cell_type": "markdown",
   "metadata": {},
   "source": [
    "Ali Mohammed Taresh Ali\n",
    "\n",
    "ali7136267922gmail.com"
   ]
  },
  {
   "cell_type": "markdown",
   "metadata": {},
   "source": [
    "# 1. Create a 3x3x3 array with random values "
   ]
  },
  {
   "cell_type": "code",
   "execution_count": 3,
   "metadata": {},
   "outputs": [
    {
     "name": "stdout",
     "output_type": "stream",
     "text": [
      "[[[0.72438805 0.60026344 0.01582548]\n",
      "  [0.68047667 0.93935256 0.89047479]\n",
      "  [0.32738491 0.3799784  0.64916784]]\n",
      "\n",
      " [[0.15375549 0.14046895 0.83810169]\n",
      "  [0.94935191 0.60360005 0.87801015]\n",
      "  [0.15335687 0.31830555 0.54531274]]\n",
      "\n",
      " [[0.49980388 0.15133391 0.77619344]\n",
      "  [0.53683993 0.76761801 0.80525977]\n",
      "  [0.01123384 0.46922081 0.78082882]]]\n"
     ]
    }
   ],
   "source": [
    "import numpy as np\n",
    "arr = np.random.random((3,3,3))\n",
    "print(arr)"
   ]
  },
  {
   "cell_type": "markdown",
   "metadata": {},
   "source": [
    "# 2.Create a 5x5 matrix with values 1,2,3,4 just below the diagonal"
   ]
  },
  {
   "cell_type": "code",
   "execution_count": 7,
   "metadata": {},
   "outputs": [
    {
     "name": "stdout",
     "output_type": "stream",
     "text": [
      "[[1. 0. 0. 0. 0.]\n",
      " [1. 1. 0. 0. 0.]\n",
      " [0. 2. 1. 0. 0.]\n",
      " [0. 0. 3. 1. 0.]\n",
      " [0. 0. 0. 4. 1.]]\n"
     ]
    }
   ],
   "source": [
    "diag = np.eye(5,5)\n",
    "for i in range(1,5):\n",
    "    diag[i,i-1] = i\n",
    "print(diag)"
   ]
  },
  {
   "cell_type": "markdown",
   "metadata": {},
   "source": [
    "# 3.Create a 8x8 matrix and fill it with a checkerboard pattern"
   ]
  },
  {
   "cell_type": "code",
   "execution_count": 9,
   "metadata": {},
   "outputs": [
    {
     "name": "stdout",
     "output_type": "stream",
     "text": [
      "[[0 1 0 1 0 1 0 1]\n",
      " [1 0 1 0 1 0 1 0]\n",
      " [0 1 0 1 0 1 0 1]\n",
      " [1 0 1 0 1 0 1 0]\n",
      " [0 1 0 1 0 1 0 1]\n",
      " [1 0 1 0 1 0 1 0]\n",
      " [0 1 0 1 0 1 0 1]\n",
      " [1 0 1 0 1 0 1 0]]\n"
     ]
    }
   ],
   "source": [
    "import numpy as np\n",
    "arr = np.zeros((8,8))\n",
    "#i=0\n",
    "arr[1::2,::2]=1\n",
    "arr[::2,1::2]=1\n",
    "print(arr.astype(int))"
   ]
  },
  {
   "cell_type": "markdown",
   "metadata": {},
   "source": [
    "# 4. Normalize a 5x5 random matrix"
   ]
  },
  {
   "cell_type": "code",
   "execution_count": 10,
   "metadata": {},
   "outputs": [
    {
     "name": "stdout",
     "output_type": "stream",
     "text": [
      "Array:  [[0.76359099 0.48942925 0.1202162  0.10587162 0.95548973]\n",
      " [0.40902848 0.67047515 0.77563926 0.38332426 0.99126319]\n",
      " [0.70159044 0.82577418 0.43742633 0.17378925 0.83047771]\n",
      " [0.72324681 0.63904301 0.19916912 0.18056762 0.8080112 ]\n",
      " [0.4003823  0.29081297 0.71086843 0.69481193 0.64467178]]\n",
      "Normalized Array: [[0.2477443  0.15879353 0.03900371 0.03434966 0.31000514]\n",
      " [0.13270779 0.2175332  0.25165332 0.12436815 0.32161171]\n",
      " [0.22762844 0.2679194  0.14192137 0.05638528 0.26944545]\n",
      " [0.23465478 0.20733516 0.06461969 0.0585845  0.26215627]\n",
      " [0.12990257 0.0943532  0.23063866 0.22542918 0.2091614 ]]\n"
     ]
    }
   ],
   "source": [
    "import numpy as np\n",
    "arr = np.random.rand(5,5)\n",
    "print(\"Array: \",arr)\n",
    "normal = np.linalg.norm(arr)\n",
    "normal_array=arr/normal\n",
    "print(\"Normalized Array:\",normal_array)"
   ]
  },
  {
   "cell_type": "markdown",
   "metadata": {},
   "source": [
    "# 5.  How to find common values between two arrays?"
   ]
  },
  {
   "cell_type": "code",
   "execution_count": 11,
   "metadata": {},
   "outputs": [
    {
     "name": "stdout",
     "output_type": "stream",
     "text": [
      "Common Values:  [3 6 9]\n"
     ]
    }
   ],
   "source": [
    "a1 = np.array([1,2,6,3,4,5,7,9])\n",
    "a2= np.array([11,6,8,12,3,77,30,9,55,81])\n",
    "print(\"Common Values: \",np.intersect1d(a1,a2))"
   ]
  },
  {
   "cell_type": "markdown",
   "metadata": {},
   "source": [
    "# 6.How to get the dates of yesterday, today and tomorrow?"
   ]
  },
  {
   "cell_type": "code",
   "execution_count": 13,
   "metadata": {},
   "outputs": [
    {
     "name": "stdout",
     "output_type": "stream",
     "text": [
      "Yesterday:  2020-07-24\n",
      "Today:  2020-07-25\n",
      "Tomorrow:  2020-07-26\n"
     ]
    }
   ],
   "source": [
    "import datetime\n",
    "today=datetime.date.today()\n",
    "yesterday=today - datetime.timedelta(days=1)\n",
    "tomorrow = today+datetime.timedelta(days=1)\n",
    "\n",
    "print(\"Yesterday: \",yesterday)\n",
    "print(\"Today: \",today)\n",
    "print(\"Tomorrow: \",tomorrow)"
   ]
  },
  {
   "cell_type": "markdown",
   "metadata": {},
   "source": [
    "# 7. Consider two random array A and B, check if they are equal"
   ]
  },
  {
   "cell_type": "code",
   "execution_count": 14,
   "metadata": {},
   "outputs": [
    {
     "name": "stdout",
     "output_type": "stream",
     "text": [
      "a3: [[0.77467577 0.9119845  0.70945796]\n",
      " [0.02246885 0.45944494 0.27110989]\n",
      " [0.81581627 0.62806651 0.45191399]]\n",
      "a4: [[0.35315342 0.79291774 0.76280421]\n",
      " [0.67425786 0.26725463 0.60394545]\n",
      " [0.35643548 0.76108933 0.96356693]]\n",
      "They are not equal\n"
     ]
    }
   ],
   "source": [
    "a3=np.random.rand(3,3)\n",
    "a4=np.random.rand(3,3)\n",
    "print(\"a3:\",a3)\n",
    "print(\"a4:\",a4)\n",
    "if (a3==a4).all():\n",
    "    print(\"They are equal\")\n",
    "else:\n",
    "    print(\"They are not equal\")"
   ]
  },
  {
   "cell_type": "markdown",
   "metadata": {},
   "source": [
    "# 8.Create random vector of size 10 and replace the maximum value by 0 "
   ]
  },
  {
   "cell_type": "code",
   "execution_count": 3,
   "metadata": {},
   "outputs": [
    {
     "name": "stdout",
     "output_type": "stream",
     "text": [
      "Original array:\n",
      "[0.00273062 0.1656022  0.74963331 0.35009064 0.67773454 0.35886288\n",
      " 0.92963131 0.14855443 0.23029467 0.31482235]\n",
      "Maximum value replaced by 0:\n",
      "[0.00273062 0.1656022  0.74963331 0.35009064 0.67773454 0.35886288\n",
      " 0.         0.14855443 0.23029467 0.31482235]\n"
     ]
    }
   ],
   "source": [
    "import numpy as np\n",
    "a = np.random.random(10)\n",
    "print(\"Original array:\")\n",
    "print(a)\n",
    "a[a.argmax()] = 0\n",
    "print(\"Maximum value replaced by 0:\")\n",
    "print(a)"
   ]
  },
  {
   "cell_type": "markdown",
   "metadata": {},
   "source": [
    "# 9. How to print all the values of an array?"
   ]
  },
  {
   "cell_type": "code",
   "execution_count": 15,
   "metadata": {},
   "outputs": [
    {
     "name": "stdout",
     "output_type": "stream",
     "text": [
      "[[10 12 30]\n",
      " [11 22 33]\n",
      " [22 55 88]]\n"
     ]
    }
   ],
   "source": [
    "a6 = np.array([[10,12,30],[11,22,33],[22,55,88]])\n",
    "print(a6)"
   ]
  },
  {
   "cell_type": "markdown",
   "metadata": {},
   "source": [
    "# 10.Subtract the mean of each row of a matrix"
   ]
  },
  {
   "cell_type": "code",
   "execution_count": 16,
   "metadata": {},
   "outputs": [
    {
     "name": "stdout",
     "output_type": "stream",
     "text": [
      "[[0.61944602 0.54715533]\n",
      " [0.57691628 0.55225431]]\n",
      "[[ 0.03614535 -0.03614535]\n",
      " [ 0.01233098 -0.01233098]]\n"
     ]
    }
   ],
   "source": [
    "matrix = np.random.rand(2,2)\n",
    "print(matrix)\n",
    "new_matrix = matrix - matrix.mean(axis=1,keepdims=True)\n",
    "print(new_matrix)"
   ]
  },
  {
   "cell_type": "markdown",
   "metadata": {},
   "source": [
    "# 11.Consider a given vector, how to add 1 to each element indexed by a second vector (be careful with repeated indices)? "
   ]
  },
  {
   "cell_type": "code",
   "execution_count": 7,
   "metadata": {},
   "outputs": [
    {
     "name": "stdout",
     "output_type": "stream",
     "text": [
      "[4. 6. 2. 3. 4. 2. 1. 3. 3. 2.]\n"
     ]
    }
   ],
   "source": [
    "import numpy as np\n",
    "Z = np.ones(10)\n",
    "I = np.random.randint(0,len(Z),20)\n",
    "Z += np.bincount(I, minlength=len(Z))\n",
    "print(Z)"
   ]
  },
  {
   "cell_type": "code",
   "execution_count": null,
   "metadata": {},
   "outputs": [],
   "source": []
  },
  {
   "cell_type": "markdown",
   "metadata": {},
   "source": [
    "# 12.How to get the diagonal of a dot product?"
   ]
  },
  {
   "cell_type": "code",
   "execution_count": 2,
   "metadata": {},
   "outputs": [
    {
     "name": "stdout",
     "output_type": "stream",
     "text": [
      "[[7 3 2]\n",
      " [5 8 6]\n",
      " [3 2 3]]\n",
      "[[9 2 2]\n",
      " [5 4 9]\n",
      " [1 7 9]]\n"
     ]
    },
    {
     "data": {
      "text/plain": [
       "array([80, 84, 51])"
      ]
     },
     "execution_count": 2,
     "metadata": {},
     "output_type": "execute_result"
    }
   ],
   "source": [
    "import numpy as np\n",
    "arr3 = np.random.randint(0,10,(3,3))\n",
    "arr4= np.random.randint(0,10,(3,3))\n",
    "\n",
    "print(arr3)\n",
    "print(arr4)\n",
    "np.diag(np.dot(arr3, arr4))"
   ]
  },
  {
   "cell_type": "markdown",
   "metadata": {},
   "source": [
    "# 13.How to find the most frequent value in an array?"
   ]
  },
  {
   "cell_type": "code",
   "execution_count": 2,
   "metadata": {},
   "outputs": [
    {
     "name": "stdout",
     "output_type": "stream",
     "text": [
      "[8 3 6 7 7 7 3 3 6 3]\n",
      "Frequent Number: 3\n"
     ]
    }
   ],
   "source": [
    "import numpy as np\n",
    "m = np.random.randint(0,10,10)\n",
    "print (m)\n",
    "print('Frequent Number:', np.bincount(m).argmax())"
   ]
  },
  {
   "cell_type": "markdown",
   "metadata": {},
   "source": [
    "# 14.How to get the n largest values of an array"
   ]
  },
  {
   "cell_type": "code",
   "execution_count": 5,
   "metadata": {},
   "outputs": [
    {
     "name": "stdout",
     "output_type": "stream",
     "text": [
      "[ 0  1  2  3  4  5  6  7  8  9 10 11 12 13 14 15 16 17 18 19 20 21 22 23\n",
      " 24 25 26 27 28 29 30 31 32 33 34 35 36 37 38 39 40 41 42 43 44]\n",
      "[44]\n"
     ]
    }
   ],
   "source": [
    "import numpy as np\n",
    "x=np.arange(45)\n",
    "print(x)\n",
    "np.random.shuffle(x)\n",
    "n=1\n",
    "print(x[np.argsort(x)[-n:]])"
   ]
  },
  {
   "cell_type": "code",
   "execution_count": 6,
   "metadata": {},
   "outputs": [
    {
     "data": {
      "text/plain": [
       "44"
      ]
     },
     "execution_count": 6,
     "metadata": {},
     "output_type": "execute_result"
    }
   ],
   "source": [
    "np.max(x)"
   ]
  },
  {
   "cell_type": "markdown",
   "metadata": {},
   "source": [
    "# 15.How to create a record array from a regular array?"
   ]
  },
  {
   "cell_type": "code",
   "execution_count": 3,
   "metadata": {},
   "outputs": [],
   "source": [
    "import numpy as np\n",
    "a =np.array(['Hello','Byee','Hello World'])\n",
    "b=np.array([10,20,30])\n",
    "c=np.array(['a','b','c'])\n",
    "result=np.core.records.fromarrays([a,b,c])"
   ]
  },
  {
   "cell_type": "code",
   "execution_count": 4,
   "metadata": {},
   "outputs": [
    {
     "name": "stdout",
     "output_type": "stream",
     "text": [
      "('Hello', 10, 'a')\n",
      "('Byee', 20, 'b')\n",
      "('Hello World', 30, 'c')\n"
     ]
    }
   ],
   "source": [
    "print(result[0])\n",
    "print(result[1])\n",
    "print(result[2])"
   ]
  },
  {
   "cell_type": "code",
   "execution_count": null,
   "metadata": {},
   "outputs": [],
   "source": []
  }
 ],
 "metadata": {
  "kernelspec": {
   "display_name": "Python 3",
   "language": "python",
   "name": "python3"
  },
  "language_info": {
   "codemirror_mode": {
    "name": "ipython",
    "version": 3
   },
   "file_extension": ".py",
   "mimetype": "text/x-python",
   "name": "python",
   "nbconvert_exporter": "python",
   "pygments_lexer": "ipython3",
   "version": "3.7.4"
  }
 },
 "nbformat": 4,
 "nbformat_minor": 2
}
